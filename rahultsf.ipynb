{
 "cells": [
  {
   "cell_type": "markdown",
   "id": "d7ea1be5",
   "metadata": {},
   "source": [
    "# THE SPARKS FOUNDATION INTERNSHIP"
   ]
  },
  {
   "cell_type": "markdown",
   "id": "239db00f",
   "metadata": {},
   "source": [
    "## Task 2 :Exploratory Data Analysis Global Terrorism"
   ]
  },
  {
   "cell_type": "code",
   "execution_count": 26,
   "id": "cb8e356e",
   "metadata": {},
   "outputs": [
    {
     "name": "stderr",
     "output_type": "stream",
     "text": [
      "C:\\Users\\Rahul\\anaconda3\\lib\\site-packages\\IPython\\core\\interactiveshell.py:3165: DtypeWarning: Columns (4,6,31,33,61,62,63,76,79,90,92,94,96,114,115,121) have mixed types.Specify dtype option on import or set low_memory=False.\n",
      "  has_raised = await self.run_ast_nodes(code_ast.body, cell_name,\n"
     ]
    },
    {
     "name": "stdout",
     "output_type": "stream",
     "text": [
      "             eventid  iyear  imonth  iday approxdate  extended resolution  \\\n",
      "0       197000000001   1970       7     2        NaN         0        NaN   \n",
      "1       197000000002   1970       0     0        NaN         0        NaN   \n",
      "2       197001000001   1970       1     0        NaN         0        NaN   \n",
      "3       197001000002   1970       1     0        NaN         0        NaN   \n",
      "4       197001000003   1970       1     0        NaN         0        NaN   \n",
      "...              ...    ...     ...   ...        ...       ...        ...   \n",
      "181686  201712310022   2017      12    31        NaN         0        NaN   \n",
      "181687  201712310029   2017      12    31        NaN         0        NaN   \n",
      "181688  201712310030   2017      12    31        NaN         0        NaN   \n",
      "181689  201712310031   2017      12    31        NaN         0        NaN   \n",
      "181690  201712310032   2017      12    31        NaN         0        NaN   \n",
      "\n",
      "        country         country_txt  region  ... addnotes  \\\n",
      "0            58  Dominican Republic       2  ...      NaN   \n",
      "1           130              Mexico       1  ...      NaN   \n",
      "2           160         Philippines       5  ...      NaN   \n",
      "3            78              Greece       8  ...      NaN   \n",
      "4           101               Japan       4  ...      NaN   \n",
      "...         ...                 ...     ...  ...      ...   \n",
      "181686      182             Somalia      11  ...      NaN   \n",
      "181687      200               Syria      10  ...      NaN   \n",
      "181688      160         Philippines       5  ...      NaN   \n",
      "181689       92               India       6  ...      NaN   \n",
      "181690      160         Philippines       5  ...      NaN   \n",
      "\n",
      "                                                   scite1  \\\n",
      "0                                                     NaN   \n",
      "1                                                     NaN   \n",
      "2                                                     NaN   \n",
      "3                                                     NaN   \n",
      "4                                                     NaN   \n",
      "...                                                   ...   \n",
      "181686  \"Somalia: Al-Shabaab Militants Attack Army Che...   \n",
      "181687  \"Putin's 'victory' in Syria has turned into a ...   \n",
      "181688  \"Maguindanao clashes trap tribe members,\" Phil...   \n",
      "181689  \"Trader escapes grenade attack in Imphal,\" Bus...   \n",
      "181690  \"Security tightened in Cotabato following IED ...   \n",
      "\n",
      "                                                   scite2  \\\n",
      "0                                                     NaN   \n",
      "1                                                     NaN   \n",
      "2                                                     NaN   \n",
      "3                                                     NaN   \n",
      "4                                                     NaN   \n",
      "...                                                   ...   \n",
      "181686  \"Highlights: Somalia Daily Media Highlights 2 ...   \n",
      "181687  \"Two Russian soldiers killed at Hmeymim base i...   \n",
      "181688                                                NaN   \n",
      "181689                                                NaN   \n",
      "181690  \"Security tightened in Cotabato City,\" Manila ...   \n",
      "\n",
      "                                                   scite3  \\\n",
      "0                                                     NaN   \n",
      "1                                                     NaN   \n",
      "2                                                     NaN   \n",
      "3                                                     NaN   \n",
      "4                                                     NaN   \n",
      "...                                                   ...   \n",
      "181686  \"Highlights: Somalia Daily Media Highlights 1 ...   \n",
      "181687  \"Two Russian servicemen killed in Syria mortar...   \n",
      "181688                                                NaN   \n",
      "181689                                                NaN   \n",
      "181690                                                NaN   \n",
      "\n",
      "                        dbsource  INT_LOG  INT_IDEO INT_MISC INT_ANY  related  \n",
      "0                           PGIS        0         0        0       0      NaN  \n",
      "1                           PGIS        0         1        1       1      NaN  \n",
      "2                           PGIS       -9        -9        1       1      NaN  \n",
      "3                           PGIS       -9        -9        1       1      NaN  \n",
      "4                           PGIS       -9        -9        1       1      NaN  \n",
      "...                          ...      ...       ...      ...     ...      ...  \n",
      "181686  START Primary Collection        0         0        0       0      NaN  \n",
      "181687  START Primary Collection       -9        -9        1       1      NaN  \n",
      "181688  START Primary Collection        0         0        0       0      NaN  \n",
      "181689  START Primary Collection       -9        -9        0      -9      NaN  \n",
      "181690  START Primary Collection       -9        -9        0      -9      NaN  \n",
      "\n",
      "[181691 rows x 135 columns]\n"
     ]
    }
   ],
   "source": [
    "import pandas as pd\n",
    "import numpy as np # linear algebra\n",
    "import matplotlib.pyplot as plt\n",
    "import matplotlib.patches as mpatches\n",
    "import seaborn as sns\n",
    "import numpy as np\n",
    "import pandas as pd\n",
    "import numpy as np # linear algebra\n",
    "import matplotlib.pyplot as plt\n",
    "import matplotlib.patches as mpatches\n",
    "import seaborn as sns\n",
    "import numpy as np\n",
    "df = pd.read_csv(r\"C:\\Users\\Rahul\\Desktop\\globalterrorismdb_0718dist.csv\",encoding=\"ISO-8859-1\")\n",
    "print(df)\n"
   ]
  },
  {
   "cell_type": "code",
   "execution_count": null,
   "id": "6d82989d",
   "metadata": {},
   "outputs": [],
   "source": [
    "df.head()"
   ]
  },
  {
   "cell_type": "code",
   "execution_count": 29,
   "id": "3bd4e0cc",
   "metadata": {},
   "outputs": [
    {
     "data": {
      "text/html": [
       "<div>\n",
       "<style scoped>\n",
       "    .dataframe tbody tr th:only-of-type {\n",
       "        vertical-align: middle;\n",
       "    }\n",
       "\n",
       "    .dataframe tbody tr th {\n",
       "        vertical-align: top;\n",
       "    }\n",
       "\n",
       "    .dataframe thead th {\n",
       "        text-align: right;\n",
       "    }\n",
       "</style>\n",
       "<table border=\"1\" class=\"dataframe\">\n",
       "  <thead>\n",
       "    <tr style=\"text-align: right;\">\n",
       "      <th></th>\n",
       "      <th>Year</th>\n",
       "      <th>Month</th>\n",
       "      <th>Day</th>\n",
       "      <th>Country</th>\n",
       "      <th>Region</th>\n",
       "      <th>City</th>\n",
       "      <th>latitude</th>\n",
       "      <th>longitude</th>\n",
       "      <th>AttackType</th>\n",
       "      <th>Killed</th>\n",
       "      <th>Wounded</th>\n",
       "      <th>Casualities</th>\n",
       "      <th>Target</th>\n",
       "      <th>Group</th>\n",
       "      <th>Target_type</th>\n",
       "      <th>Weapon_type</th>\n",
       "    </tr>\n",
       "  </thead>\n",
       "  <tbody>\n",
       "    <tr>\n",
       "      <th>0</th>\n",
       "      <td>1970</td>\n",
       "      <td>7</td>\n",
       "      <td>2</td>\n",
       "      <td>Dominican Republic</td>\n",
       "      <td>Central America &amp; Caribbean</td>\n",
       "      <td>Santo Domingo</td>\n",
       "      <td>18.456792</td>\n",
       "      <td>-69.951164</td>\n",
       "      <td>Assassination</td>\n",
       "      <td>1.0</td>\n",
       "      <td>0.0</td>\n",
       "      <td>1.0</td>\n",
       "      <td>Julio Guzman</td>\n",
       "      <td>MANO-D</td>\n",
       "      <td>Private Citizens &amp; Property</td>\n",
       "      <td>Unknown</td>\n",
       "    </tr>\n",
       "    <tr>\n",
       "      <th>1</th>\n",
       "      <td>1970</td>\n",
       "      <td>0</td>\n",
       "      <td>0</td>\n",
       "      <td>Mexico</td>\n",
       "      <td>North America</td>\n",
       "      <td>Mexico city</td>\n",
       "      <td>19.371887</td>\n",
       "      <td>-99.086624</td>\n",
       "      <td>Hostage Taking (Kidnapping)</td>\n",
       "      <td>0.0</td>\n",
       "      <td>0.0</td>\n",
       "      <td>0.0</td>\n",
       "      <td>Nadine Chaval, daughter</td>\n",
       "      <td>23rd of September Communist League</td>\n",
       "      <td>Government (Diplomatic)</td>\n",
       "      <td>Unknown</td>\n",
       "    </tr>\n",
       "    <tr>\n",
       "      <th>2</th>\n",
       "      <td>1970</td>\n",
       "      <td>1</td>\n",
       "      <td>0</td>\n",
       "      <td>Philippines</td>\n",
       "      <td>Southeast Asia</td>\n",
       "      <td>Unknown</td>\n",
       "      <td>15.478598</td>\n",
       "      <td>120.599741</td>\n",
       "      <td>Assassination</td>\n",
       "      <td>1.0</td>\n",
       "      <td>0.0</td>\n",
       "      <td>1.0</td>\n",
       "      <td>Employee</td>\n",
       "      <td>Unknown</td>\n",
       "      <td>Journalists &amp; Media</td>\n",
       "      <td>Unknown</td>\n",
       "    </tr>\n",
       "    <tr>\n",
       "      <th>3</th>\n",
       "      <td>1970</td>\n",
       "      <td>1</td>\n",
       "      <td>0</td>\n",
       "      <td>Greece</td>\n",
       "      <td>Western Europe</td>\n",
       "      <td>Athens</td>\n",
       "      <td>37.997490</td>\n",
       "      <td>23.762728</td>\n",
       "      <td>Bombing/Explosion</td>\n",
       "      <td>NaN</td>\n",
       "      <td>NaN</td>\n",
       "      <td>NaN</td>\n",
       "      <td>U.S. Embassy</td>\n",
       "      <td>Unknown</td>\n",
       "      <td>Government (Diplomatic)</td>\n",
       "      <td>Explosives</td>\n",
       "    </tr>\n",
       "    <tr>\n",
       "      <th>4</th>\n",
       "      <td>1970</td>\n",
       "      <td>1</td>\n",
       "      <td>0</td>\n",
       "      <td>Japan</td>\n",
       "      <td>East Asia</td>\n",
       "      <td>Fukouka</td>\n",
       "      <td>33.580412</td>\n",
       "      <td>130.396361</td>\n",
       "      <td>Facility/Infrastructure Attack</td>\n",
       "      <td>NaN</td>\n",
       "      <td>NaN</td>\n",
       "      <td>NaN</td>\n",
       "      <td>U.S. Consulate</td>\n",
       "      <td>Unknown</td>\n",
       "      <td>Government (Diplomatic)</td>\n",
       "      <td>Incendiary</td>\n",
       "    </tr>\n",
       "  </tbody>\n",
       "</table>\n",
       "</div>"
      ],
      "text/plain": [
       "   Year  Month  Day             Country                       Region  \\\n",
       "0  1970      7    2  Dominican Republic  Central America & Caribbean   \n",
       "1  1970      0    0              Mexico                North America   \n",
       "2  1970      1    0         Philippines               Southeast Asia   \n",
       "3  1970      1    0              Greece               Western Europe   \n",
       "4  1970      1    0               Japan                    East Asia   \n",
       "\n",
       "            City   latitude   longitude                      AttackType  \\\n",
       "0  Santo Domingo  18.456792  -69.951164                   Assassination   \n",
       "1    Mexico city  19.371887  -99.086624     Hostage Taking (Kidnapping)   \n",
       "2        Unknown  15.478598  120.599741                   Assassination   \n",
       "3         Athens  37.997490   23.762728               Bombing/Explosion   \n",
       "4        Fukouka  33.580412  130.396361  Facility/Infrastructure Attack   \n",
       "\n",
       "   Killed  Wounded  Casualities                   Target  \\\n",
       "0     1.0      0.0          1.0             Julio Guzman   \n",
       "1     0.0      0.0          0.0  Nadine Chaval, daughter   \n",
       "2     1.0      0.0          1.0                 Employee   \n",
       "3     NaN      NaN          NaN             U.S. Embassy   \n",
       "4     NaN      NaN          NaN           U.S. Consulate   \n",
       "\n",
       "                                Group                  Target_type Weapon_type  \n",
       "0                              MANO-D  Private Citizens & Property     Unknown  \n",
       "1  23rd of September Communist League      Government (Diplomatic)     Unknown  \n",
       "2                             Unknown          Journalists & Media     Unknown  \n",
       "3                             Unknown      Government (Diplomatic)  Explosives  \n",
       "4                             Unknown      Government (Diplomatic)  Incendiary  "
      ]
     },
     "execution_count": 29,
     "metadata": {},
     "output_type": "execute_result"
    }
   ],
   "source": [
    "df.rename(columns={'iyear':'Year','imonth':'Month','city':'City','iday':'Day','country_txt':'Country','region_txt':'Region','attacktype1_txt':'AttackType','target1':'Target','nkill':'Killed','nwound':'Wounded','summary':'Summary','gname':'Group','targtype1_txt':'Target_type','weaptype1_txt':'Weapon_type','motive':'Motive'},inplace=True)\n",
    "df['Casualities'] = df.Killed + df.Wounded\n",
    "df=df[['Year','Month','Day','Country','Region','City','latitude','longitude','AttackType','Killed','Wounded','Casualities','Target','Group','Target_type','Weapon_type']]\n",
    "\n",
    "df.head()"
   ]
  },
  {
   "cell_type": "code",
   "execution_count": null,
   "id": "247ff98a",
   "metadata": {},
   "outputs": [],
   "source": [
    "df.isnull().sum()\n"
   ]
  },
  {
   "cell_type": "markdown",
   "id": "821ef8cf",
   "metadata": {},
   "source": [
    "### Most Attack-prone countries of the world:¶"
   ]
  },
  {
   "cell_type": "code",
   "execution_count": 30,
   "id": "a4ce0e99",
   "metadata": {},
   "outputs": [
    {
     "name": "stdout",
     "output_type": "stream",
     "text": [
      "The highest terrorist attacks were commited in Iraq with 24636 attacks\n",
      "Top 4 countries with highest terrorist attacks following iraq are:\n",
      "2. Pakistan with 14368 attacks\n",
      "3. Afghanistan with 12731 attacks\n",
      "4. India with 11960 attacks\n",
      "5. Colombia with 8306 attacks\n"
     ]
    }
   ],
   "source": [
    "print(f\"The highest terrorist attacks were commited in {df.Country.value_counts().index[0]} with {df.Country.value_counts().max()} attacks\")\n",
    "\n",
    "print('Top 4 countries with highest terrorist attacks following iraq are:')\n",
    "for i in range(1,5):\n",
    "    print(f\"{i+1}. {df.Country.value_counts().index[i]} with {df.Country.value_counts()[i]} attacks\")"
   ]
  },
  {
   "cell_type": "markdown",
   "id": "db9da275",
   "metadata": {},
   "source": [
    "### Timeline of  attacks over past 45 years:¶"
   ]
  },
  {
   "cell_type": "code",
   "execution_count": 27,
   "id": "004636b5",
   "metadata": {},
   "outputs": [
    {
     "name": "stderr",
     "output_type": "stream",
     "text": [
      "C:\\Users\\Rahul\\anaconda3\\lib\\site-packages\\seaborn\\_decorators.py:36: FutureWarning: Pass the following variable as a keyword arg: x. From version 0.12, the only valid positional argument will be `data`, and passing other arguments without an explicit keyword will result in an error or misinterpretation.\n",
      "  warnings.warn(\n"
     ]
    },
    {
     "ename": "ValueError",
     "evalue": "Could not interpret input 'Year'",
     "output_type": "error",
     "traceback": [
      "\u001b[1;31m---------------------------------------------------------------------------\u001b[0m",
      "\u001b[1;31mValueError\u001b[0m                                Traceback (most recent call last)",
      "\u001b[1;32m<ipython-input-27-1c8c6b8389a0>\u001b[0m in \u001b[0;36m<module>\u001b[1;34m\u001b[0m\n\u001b[0;32m      1\u001b[0m \u001b[0mplt\u001b[0m\u001b[1;33m.\u001b[0m\u001b[0msubplots\u001b[0m\u001b[1;33m(\u001b[0m\u001b[0mfigsize\u001b[0m\u001b[1;33m=\u001b[0m\u001b[1;33m(\u001b[0m\u001b[1;36m15\u001b[0m\u001b[1;33m,\u001b[0m\u001b[1;36m3\u001b[0m\u001b[1;33m)\u001b[0m\u001b[1;33m)\u001b[0m\u001b[1;33m\u001b[0m\u001b[1;33m\u001b[0m\u001b[0m\n\u001b[1;32m----> 2\u001b[1;33m \u001b[0msns\u001b[0m\u001b[1;33m.\u001b[0m\u001b[0mcountplot\u001b[0m\u001b[1;33m(\u001b[0m\u001b[1;34m'Year'\u001b[0m\u001b[1;33m,\u001b[0m\u001b[0mdata\u001b[0m\u001b[1;33m=\u001b[0m\u001b[0mdf\u001b[0m\u001b[1;33m,\u001b[0m\u001b[0mpalette\u001b[0m\u001b[1;33m=\u001b[0m\u001b[1;34m'Accent'\u001b[0m\u001b[1;33m)\u001b[0m\u001b[1;33m\u001b[0m\u001b[1;33m\u001b[0m\u001b[0m\n\u001b[0m\u001b[0;32m      3\u001b[0m \u001b[0mplt\u001b[0m\u001b[1;33m.\u001b[0m\u001b[0mxticks\u001b[0m\u001b[1;33m(\u001b[0m\u001b[0mrotation\u001b[0m\u001b[1;33m=\u001b[0m\u001b[1;36m90\u001b[0m\u001b[1;33m)\u001b[0m\u001b[1;33m\u001b[0m\u001b[1;33m\u001b[0m\u001b[0m\n\u001b[0;32m      4\u001b[0m \u001b[0mplt\u001b[0m\u001b[1;33m.\u001b[0m\u001b[0mtitle\u001b[0m\u001b[1;33m(\u001b[0m\u001b[1;34m'Number Of Terrorist Attacks According to Each Year(1970-2017)'\u001b[0m\u001b[1;33m)\u001b[0m\u001b[1;33m\u001b[0m\u001b[1;33m\u001b[0m\u001b[0m\n\u001b[0;32m      5\u001b[0m \u001b[0mplt\u001b[0m\u001b[1;33m.\u001b[0m\u001b[0mshow\u001b[0m\u001b[1;33m(\u001b[0m\u001b[1;33m)\u001b[0m\u001b[1;33m\u001b[0m\u001b[1;33m\u001b[0m\u001b[0m\n",
      "\u001b[1;32m~\\anaconda3\\lib\\site-packages\\seaborn\\_decorators.py\u001b[0m in \u001b[0;36minner_f\u001b[1;34m(*args, **kwargs)\u001b[0m\n\u001b[0;32m     44\u001b[0m             )\n\u001b[0;32m     45\u001b[0m         \u001b[0mkwargs\u001b[0m\u001b[1;33m.\u001b[0m\u001b[0mupdate\u001b[0m\u001b[1;33m(\u001b[0m\u001b[1;33m{\u001b[0m\u001b[0mk\u001b[0m\u001b[1;33m:\u001b[0m \u001b[0marg\u001b[0m \u001b[1;32mfor\u001b[0m \u001b[0mk\u001b[0m\u001b[1;33m,\u001b[0m \u001b[0marg\u001b[0m \u001b[1;32min\u001b[0m \u001b[0mzip\u001b[0m\u001b[1;33m(\u001b[0m\u001b[0msig\u001b[0m\u001b[1;33m.\u001b[0m\u001b[0mparameters\u001b[0m\u001b[1;33m,\u001b[0m \u001b[0margs\u001b[0m\u001b[1;33m)\u001b[0m\u001b[1;33m}\u001b[0m\u001b[1;33m)\u001b[0m\u001b[1;33m\u001b[0m\u001b[1;33m\u001b[0m\u001b[0m\n\u001b[1;32m---> 46\u001b[1;33m         \u001b[1;32mreturn\u001b[0m \u001b[0mf\u001b[0m\u001b[1;33m(\u001b[0m\u001b[1;33m**\u001b[0m\u001b[0mkwargs\u001b[0m\u001b[1;33m)\u001b[0m\u001b[1;33m\u001b[0m\u001b[1;33m\u001b[0m\u001b[0m\n\u001b[0m\u001b[0;32m     47\u001b[0m     \u001b[1;32mreturn\u001b[0m \u001b[0minner_f\u001b[0m\u001b[1;33m\u001b[0m\u001b[1;33m\u001b[0m\u001b[0m\n\u001b[0;32m     48\u001b[0m \u001b[1;33m\u001b[0m\u001b[0m\n",
      "\u001b[1;32m~\\anaconda3\\lib\\site-packages\\seaborn\\categorical.py\u001b[0m in \u001b[0;36mcountplot\u001b[1;34m(x, y, hue, data, order, hue_order, orient, color, palette, saturation, dodge, ax, **kwargs)\u001b[0m\n\u001b[0;32m   3593\u001b[0m         \u001b[1;32mraise\u001b[0m \u001b[0mValueError\u001b[0m\u001b[1;33m(\u001b[0m\u001b[1;34m\"Cannot pass values for both `x` and `y`\"\u001b[0m\u001b[1;33m)\u001b[0m\u001b[1;33m\u001b[0m\u001b[1;33m\u001b[0m\u001b[0m\n\u001b[0;32m   3594\u001b[0m \u001b[1;33m\u001b[0m\u001b[0m\n\u001b[1;32m-> 3595\u001b[1;33m     plotter = _CountPlotter(\n\u001b[0m\u001b[0;32m   3596\u001b[0m         \u001b[0mx\u001b[0m\u001b[1;33m,\u001b[0m \u001b[0my\u001b[0m\u001b[1;33m,\u001b[0m \u001b[0mhue\u001b[0m\u001b[1;33m,\u001b[0m \u001b[0mdata\u001b[0m\u001b[1;33m,\u001b[0m \u001b[0morder\u001b[0m\u001b[1;33m,\u001b[0m \u001b[0mhue_order\u001b[0m\u001b[1;33m,\u001b[0m\u001b[1;33m\u001b[0m\u001b[1;33m\u001b[0m\u001b[0m\n\u001b[0;32m   3597\u001b[0m         \u001b[0mestimator\u001b[0m\u001b[1;33m,\u001b[0m \u001b[0mci\u001b[0m\u001b[1;33m,\u001b[0m \u001b[0mn_boot\u001b[0m\u001b[1;33m,\u001b[0m \u001b[0munits\u001b[0m\u001b[1;33m,\u001b[0m \u001b[0mseed\u001b[0m\u001b[1;33m,\u001b[0m\u001b[1;33m\u001b[0m\u001b[1;33m\u001b[0m\u001b[0m\n",
      "\u001b[1;32m~\\anaconda3\\lib\\site-packages\\seaborn\\categorical.py\u001b[0m in \u001b[0;36m__init__\u001b[1;34m(self, x, y, hue, data, order, hue_order, estimator, ci, n_boot, units, seed, orient, color, palette, saturation, errcolor, errwidth, capsize, dodge)\u001b[0m\n\u001b[0;32m   1582\u001b[0m                  errwidth, capsize, dodge):\n\u001b[0;32m   1583\u001b[0m         \u001b[1;34m\"\"\"Initialize the plotter.\"\"\"\u001b[0m\u001b[1;33m\u001b[0m\u001b[1;33m\u001b[0m\u001b[0m\n\u001b[1;32m-> 1584\u001b[1;33m         self.establish_variables(x, y, hue, data, orient,\n\u001b[0m\u001b[0;32m   1585\u001b[0m                                  order, hue_order, units)\n\u001b[0;32m   1586\u001b[0m         \u001b[0mself\u001b[0m\u001b[1;33m.\u001b[0m\u001b[0mestablish_colors\u001b[0m\u001b[1;33m(\u001b[0m\u001b[0mcolor\u001b[0m\u001b[1;33m,\u001b[0m \u001b[0mpalette\u001b[0m\u001b[1;33m,\u001b[0m \u001b[0msaturation\u001b[0m\u001b[1;33m)\u001b[0m\u001b[1;33m\u001b[0m\u001b[1;33m\u001b[0m\u001b[0m\n",
      "\u001b[1;32m~\\anaconda3\\lib\\site-packages\\seaborn\\categorical.py\u001b[0m in \u001b[0;36mestablish_variables\u001b[1;34m(self, x, y, hue, data, orient, order, hue_order, units)\u001b[0m\n\u001b[0;32m    151\u001b[0m                 \u001b[1;32mif\u001b[0m \u001b[0misinstance\u001b[0m\u001b[1;33m(\u001b[0m\u001b[0mvar\u001b[0m\u001b[1;33m,\u001b[0m \u001b[0mstr\u001b[0m\u001b[1;33m)\u001b[0m\u001b[1;33m:\u001b[0m\u001b[1;33m\u001b[0m\u001b[1;33m\u001b[0m\u001b[0m\n\u001b[0;32m    152\u001b[0m                     \u001b[0merr\u001b[0m \u001b[1;33m=\u001b[0m \u001b[1;34m\"Could not interpret input '{}'\"\u001b[0m\u001b[1;33m.\u001b[0m\u001b[0mformat\u001b[0m\u001b[1;33m(\u001b[0m\u001b[0mvar\u001b[0m\u001b[1;33m)\u001b[0m\u001b[1;33m\u001b[0m\u001b[1;33m\u001b[0m\u001b[0m\n\u001b[1;32m--> 153\u001b[1;33m                     \u001b[1;32mraise\u001b[0m \u001b[0mValueError\u001b[0m\u001b[1;33m(\u001b[0m\u001b[0merr\u001b[0m\u001b[1;33m)\u001b[0m\u001b[1;33m\u001b[0m\u001b[1;33m\u001b[0m\u001b[0m\n\u001b[0m\u001b[0;32m    154\u001b[0m \u001b[1;33m\u001b[0m\u001b[0m\n\u001b[0;32m    155\u001b[0m             \u001b[1;31m# Figure out the plotting orientation\u001b[0m\u001b[1;33m\u001b[0m\u001b[1;33m\u001b[0m\u001b[1;33m\u001b[0m\u001b[0m\n",
      "\u001b[1;31mValueError\u001b[0m: Could not interpret input 'Year'"
     ]
    },
    {
     "data": {
      "image/png": "[encoded data removed]",
      "text/plain": [
       "<Figure size 1080x216 with 1 Axes>"
      ]
     },
     "metadata": {
      "needs_background": "light"
     },
     "output_type": "display_data"
    }
   ],
   "source": [
    "\n",
    "plt.subplots(figsize=(15,3))\n",
    "sns.countplot('Year',data=df,palette='Accent')\n",
    "plt.xticks(rotation=90)\n",
    "plt.title('Number Of Terrorist Attacks According to Each Year(1970-2017)')\n",
    "plt.show()"
   ]
  },
  {
   "cell_type": "markdown",
   "id": "5a25558a",
   "metadata": {},
   "source": [
    "### Timeline of Death:"
   ]
  },
  {
   "cell_type": "code",
   "execution_count": null,
   "id": "2d02e558",
   "metadata": {},
   "outputs": [],
   "source": [
    "plt.subplots(figsize=(15,5))\n",
    "year_cas = df.groupby('Year').Casualities.sum().to_frame().reset_index()\n",
    "year_cas.columns = ['Year','Casualities']\n",
    "sns.barplot(x=year_cas.Year, y=year_cas.Casualities, palette='RdYlBu')\n",
    "plt.xticks(rotation=80)\n",
    "plt.title('Number Of Deaths Each Year')\n",
    "plt.show()\n"
   ]
  },
  {
   "cell_type": "markdown",
   "id": "e137ef70",
   "metadata": {},
   "source": [
    "### Nation-wise total attacks:"
   ]
  },
  {
   "cell_type": "code",
   "execution_count": null,
   "id": "44f9c0fa",
   "metadata": {},
   "outputs": [],
   "source": [
    "plt.subplots(figsize=(15,3))\n",
    "country_attacks = df.Country.value_counts()[:15].reset_index()\n",
    "country_attacks.columns = ['Country', 'Total Attacks']\n",
    "sns.barplot(x=country_attacks.Country, y=country_attacks['Total Attacks'], palette= 'Spectral',edgecolor=sns.color_palette('dark',10))\n",
    "plt.xticks(rotation=50)\n",
    "plt.title('Number Of Total Attacks in Each Nation')\n",
    "plt.show()\n"
   ]
  },
  {
   "cell_type": "markdown",
   "id": "264f1371",
   "metadata": {},
   "source": [
    "### Terrain wise attack:¶"
   ]
  },
  {
   "cell_type": "code",
   "execution_count": null,
   "id": "fb24adee",
   "metadata": {},
   "outputs": [],
   "source": [
    "region_attacks = df.Region.value_counts().to_frame().reset_index()\n",
    "region_attacks.columns = ['Region', 'Total Attacks']\n",
    "plt.subplots(figsize=(15,8))\n",
    "sns.barplot(x=region_attacks.Region, y=region_attacks['Total Attacks'], palette='Accent', edgecolor=sns.color_palette('dark',10))\n",
    "plt.xticks(rotation=46)\n",
    "plt.title('Number Of Total Attacks in Each Terrrain')\n",
    "plt.show()\n"
   ]
  },
  {
   "cell_type": "code",
   "execution_count": null,
   "id": "15953d12",
   "metadata": {},
   "outputs": [],
   "source": [
    "group_attacks = df.Group.value_counts().to_frame().drop('Unknown').reset_index()[:16]\n",
    "group_attacks.columns = ['Terrorist Organizations', 'Total Attacks']\n",
    "group_attacks\n"
   ]
  },
  {
   "cell_type": "code",
   "execution_count": null,
   "id": "4b0db05c",
   "metadata": {},
   "outputs": [],
   "source": [
    "group_attacks = df.Group.value_counts().to_frame().drop('Unknown').reset_index()[:16]\n",
    "group_attacks.columns = ['Terrorist Group', 'Total Attacks']\n",
    "plt.subplots(figsize=(10,6))\n",
    "sns.barplot(y=group_attacks['Terrorist Group'], x=group_attacks['Total Attacks'], palette='BuGn',\n",
    "            )\n",
    "\n",
    "plt.title('Number Of Total Attacks by Terrorist Group')\n",
    "plt.show()\n"
   ]
  },
  {
   "cell_type": "markdown",
   "id": "8006b278",
   "metadata": {},
   "source": [
    "### Terrorist Organizations Attack Trend"
   ]
  },
  {
   "cell_type": "code",
   "execution_count": null,
   "id": "90f82b40",
   "metadata": {},
   "outputs": [],
   "source": [
    "groups_10 = df[df.Group.isin(df.Group.value_counts()[1:11].index)]\n",
    "pd.crosstab(groups_10.Year, groups_10.Group).plot(color=sns.color_palette('RdBu', 10))\n",
    "fig=plt.gcf()\n",
    "fig.set_size_inches(18,8)\n",
    "plt.xticks(range(1970, 2017, 5))\n",
    "plt.ylabel('Total Attacks')\n",
    "plt.title('Top Terrorist Organization Activities from 1970 to 2017')\n",
    "plt.legend(labels=['Al-Shabaab',\n",
    "                   'Boko Haraam',\n",
    "                   'FMLN',\n",
    "                   'IRA',\n",
    "                   'ISIL',\n",
    "                   'PKK',\n",
    "                   'NPA',\n",
    "                   'FARC',\n",
    "                   'SL',\n",
    "                   'Taliban'], loc='upper left')\n",
    "plt.show()\n"
   ]
  },
  {
   "cell_type": "code",
   "execution_count": null,
   "id": "e01323dd",
   "metadata": {},
   "outputs": [],
   "source": []
  }
 ],
 "metadata": {
  "kernelspec": {
   "display_name": "Python 3",
   "language": "python",
   "name": "python3"
  },
  "language_info": {
   "codemirror_mode": {
    "name": "ipython",
    "version": 3
   },
   "file_extension": ".py",
   "mimetype": "text/x-python",
   "name": "python",
   "nbconvert_exporter": "python",
   "pygments_lexer": "ipython3",
   "version": "3.8.8"
  }
 },
 "nbformat": 4,
 "nbformat_minor": 5
}
